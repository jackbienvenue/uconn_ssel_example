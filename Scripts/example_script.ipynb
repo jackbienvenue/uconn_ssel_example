{
 "cells": [
  {
   "cell_type": "markdown",
   "id": "eeb857b5",
   "metadata": {},
   "source": [
    "# Jupyter Notebooks (.ipynb)"
   ]
  },
  {
   "cell_type": "markdown",
   "id": "242c79a7",
   "metadata": {},
   "source": [
    "Jupyter Notebooks are a verstaile filetype for programming. They allow alternation between code chunks and markdown chunks, making it easy to annotate your code and write attractive scripts, which can be executed chunk-by-chunk. I like to use Python with Jupyter Notebooks primarily. "
   ]
  },
  {
   "cell_type": "code",
   "execution_count": null,
   "id": "d0736ff7",
   "metadata": {
    "notebookRunGroups": {
     "groupValue": "2"
    }
   },
   "outputs": [],
   "source": [
    "# Package Import\n",
    "import pandas as pd\n",
    "\n",
    "# Basketball data example (NBA)\n",
    "url = \"https://www.basketball-reference.com/leagues/NBA_2025_per_game.html\"\n",
    "tables = pd.read_html(url)\n",
    "df = tables[0]\n",
    "df = df[df['Player'] != 'Player']\n",
    "df.reset_index(drop=True, inplace=True)\n",
    "print(df[df['Player'] == 'Giannis Antetokounmpo'])"
   ]
  },
  {
   "cell_type": "markdown",
   "id": "1eaf21e4",
   "metadata": {},
   "source": [
    "Head [to the Jupyter](https://jupyter.org/install) or [Anaconda Navigator](https://www.anaconda.com/download) websites to use Jupyter Notebooks."
   ]
  }
 ],
 "metadata": {
  "kernelspec": {
   "display_name": "base",
   "language": "python",
   "name": "python3"
  },
  "language_info": {
   "codemirror_mode": {
    "name": "ipython",
    "version": 3
   },
   "file_extension": ".py",
   "mimetype": "text/x-python",
   "name": "python",
   "nbconvert_exporter": "python",
   "pygments_lexer": "ipython3",
   "version": "3.11.8"
  }
 },
 "nbformat": 4,
 "nbformat_minor": 5
}
